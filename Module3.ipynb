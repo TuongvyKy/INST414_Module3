{
 "cells": [
  {
   "cell_type": "code",
   "execution_count": 21,
   "id": "6af3d56a-9fd5-4c31-b372-e2fe56e446fb",
   "metadata": {},
   "outputs": [],
   "source": [
    "import pandas as pd\n",
    "from sklearn.preprocessing import StandardScaler\n",
    "from sklearn.metrics.pairwise import cosine_similarity\n",
    "\n",
    "df = pd.read_csv('christmas_movies.csv')\n",
    "\n",
    "# Map ratings to numeric values\n",
    "df['rating_numeric'] = df['rating'].map({'G': 1, 'PG': 2, 'PG-13': 3, 'R': 4})\n",
    "\n",
    "# Convert genres to categorical codes\n",
    "df['primary_genre'] = df['genre'].str.split(',').str[0]  # Keep only the first genre for simplicity\n",
    "df['genre_code'] = df['primary_genre'].astype('category').cat.codes\n",
    "\n",
    "# Removing rows with missing values within the columns used as the features\n",
    "df = df.dropna(subset=['genre_code', 'imdb_rating', 'rating_numeric', 'runtime', 'director'])\n",
    "\n",
    "# Prepare the feature matrix\n",
    "features = df[['imdb_rating', 'runtime', 'rating_numeric', 'genre_code']]\n",
    "scaler = StandardScaler()\n",
    "features_scaled = scaler.fit_transform(features)\n",
    "\n",
    "# Calculate cosine similarity\n",
    "cosine_sim = cosine_similarity(features_scaled)\n",
    "similarity_df = pd.DataFrame(cosine_sim, index=df['title'], columns=df['title'])"
   ]
  },
  {
   "cell_type": "code",
   "execution_count": 22,
   "id": "c00bfa1a",
   "metadata": {},
   "outputs": [
    {
     "name": "stdout",
     "output_type": "stream",
     "text": [
      "Top 10 similar movies to Home Alone\n",
      "title\n",
      "A Christmas Story Christmas       0.970176\n",
      "8-Bit Christmas                   0.955266\n",
      "The Santa Clause                  0.941442\n",
      "Klaus                             0.879460\n",
      "The Man Who Invented Christmas    0.879028\n",
      "Christmas in the Clouds           0.827919\n",
      "The Bishop's Wife                 0.812779\n",
      "It's a Wonderful Life             0.808788\n",
      "A Christmas Carol                 0.747994\n",
      "Rise of the Guardians             0.747567\n",
      "Name: Home Alone, dtype: float64\n"
     ]
    }
   ],
   "source": [
    "# Get top 10 similar movies for \"Home Alone\"\n",
    "query_movie = 'Home Alone'\n",
    "top_10_similar = similarity_df[query_movie].nlargest(11).iloc[1:]  # Exclude itself\n",
    "print(\"Top 10 similar movies to\", query_movie)\n",
    "print(top_10_similar)"
   ]
  },
  {
   "cell_type": "code",
   "execution_count": 23,
   "id": "67778de1",
   "metadata": {},
   "outputs": [
    {
     "name": "stdout",
     "output_type": "stream",
     "text": [
      "Top 10 similar movies to Elf\n",
      "title\n",
      "A Christmas Carol                     0.997666\n",
      "Arthur Christmas                      0.983405\n",
      "The Nativity Story                    0.976120\n",
      "Rise of the Guardians                 0.974280\n",
      "The Christmas Chronicles              0.964409\n",
      "Thomas Kinkade's Christmas Cottage    0.948533\n",
      "Klaus                                 0.866735\n",
      "The Man Who Invented Christmas        0.827856\n",
      "Santa Claus                           0.802840\n",
      "The Grinch                            0.767461\n",
      "Name: Elf, dtype: float64\n"
     ]
    }
   ],
   "source": [
    "# Get top 10 similar movies for \"Elf\"\n",
    "query_movie = 'Elf'\n",
    "top_10_similar = similarity_df[query_movie].nlargest(11).iloc[1:]  # Exclude itself\n",
    "print(\"Top 10 similar movies to\", query_movie)\n",
    "print(top_10_similar)"
   ]
  },
  {
   "cell_type": "code",
   "execution_count": 24,
   "id": "76fa494b",
   "metadata": {},
   "outputs": [
    {
     "name": "stdout",
     "output_type": "stream",
     "text": [
      "Top 10 similar movies to Love Actually\n",
      "title\n",
      "Instant Family             0.979487\n",
      "Silver Linings Playbook    0.978802\n",
      "The Best Man Holiday       0.959281\n",
      "This Christmas             0.958623\n",
      "Spirited                   0.953114\n",
      "Almost Christmas           0.924353\n",
      "Last Christmas             0.918615\n",
      "Happiest Season            0.901877\n",
      "Die Hard                   0.894952\n",
      "Scrooged                   0.865927\n",
      "Name: Love Actually, dtype: float64\n"
     ]
    }
   ],
   "source": [
    "# Get top 10 similar movies for \"Love Actually\"\n",
    "query_movie = 'Love Actually'\n",
    "top_10_similar = similarity_df[query_movie].nlargest(11).iloc[1:]  # Exclude itself\n",
    "print(\"Top 10 similar movies to\", query_movie)\n",
    "print(top_10_similar)"
   ]
  }
 ],
 "metadata": {
  "kernelspec": {
   "display_name": "Python 3",
   "language": "python",
   "name": "python3"
  },
  "language_info": {
   "codemirror_mode": {
    "name": "ipython",
    "version": 3
   },
   "file_extension": ".py",
   "mimetype": "text/x-python",
   "name": "python",
   "nbconvert_exporter": "python",
   "pygments_lexer": "ipython3",
   "version": "3.12.1"
  }
 },
 "nbformat": 4,
 "nbformat_minor": 5
}
